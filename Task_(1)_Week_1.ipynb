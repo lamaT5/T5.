{
  "nbformat": 4,
  "nbformat_minor": 0,
  "metadata": {
    "colab": {
      "provenance": [],
      "include_colab_link": true
    },
    "kernelspec": {
      "name": "python3",
      "display_name": "Python 3"
    },
    "language_info": {
      "name": "python"
    }
  },
  "cells": [
    {
      "cell_type": "markdown",
      "metadata": {
        "id": "view-in-github",
        "colab_type": "text"
      },
      "source": [
        "<a href=\"https://colab.research.google.com/github/lamaT5/T5./blob/main/Task_(1)_Week_1.ipynb\" target=\"_parent\"><img src=\"https://colab.research.google.com/assets/colab-badge.svg\" alt=\"Open In Colab\"/></a>"
      ]
    },
    {
      "cell_type": "markdown",
      "source": [
        "#Dataset Description"
      ],
      "metadata": {
        "id": "8vb3xNKsoP0r"
      }
    },
    {
      "cell_type": "markdown",
      "source": [
        "\\\n",
        "\n",
        "## The dataset contains information about road traffic accidents with the following columns:\n",
        "\n",
        "`Time`: Time of the accident\n",
        "\n",
        "`Day_of_week`: Day of the week when the accident occurred\n",
        "\n",
        "`Age_band_of_driver`: Age group of the driver\n",
        "\n",
        "`Sex_of_driver`: Gender of the driver\n",
        "\n",
        "`Educational_level`: Educational level of the driver\n",
        "\n",
        "`Vehicle_driver_relation`: Relationship of the driver to the vehicle\n",
        "\n",
        "`Driving_experience`: Driving experience of the driver\n",
        "\n",
        "`Type_of_vehicle`: Type of vehicle involved in the accident\n",
        "\n",
        "`Owner_of_vehicle`: Owner of the vehicle\n",
        "\n",
        "`Service_year_of_vehicle`: Service years of the vehicle\n",
        "\n",
        "`Area_accident_occured`: Area where the accident occurred\n",
        "\n",
        "`Lanes_or_Medians`: Lanes or medians at the accident site\n",
        "\n",
        "`Road_allignment`: Road alignment at the accident site\n",
        "\n",
        "`Types_of_Junction`: Type of junction at the accident site\n",
        "\n",
        "`Road_surface_type`: Type of road surface at the accident site\n",
        "\n",
        "`Road_surface_conditions`: Road surface conditions at the accident site\n",
        "\n",
        "`Light_conditions`: Light conditions at the time of the accident\n",
        "\n",
        "`Weather_conditions`: Weather conditions at the time of the accident\n",
        "\n",
        "`Type_of_collision`: Type of collision\n",
        "\n",
        "`Number_of_vehicles_involved`: Number of vehicles involved in the accident\n",
        "\n",
        "`Number_of_casualties`: Number of casualties in the accident\n",
        "\n",
        "`Vehicle_movement`: Movement of the vehicle during the accident\n",
        "\n",
        "`Casualty_class`: Class of casualty (driver, passenger, pedestrian)\n",
        "\n",
        "`Sex_of_casualty`: Gender of the casualty\n",
        "\n",
        "`Age_band_of_casualty`: Age group of the casualty\n",
        "\n",
        "`Casualty_severity`: Severity of the casualty\n",
        "\n",
        "`Work_of_casuality`: Occupation of the casualty\n",
        "\n",
        "`Fitness_of_casuality`: Fitness of the casualty\n",
        "\n",
        "`Pedestrian_movement`: Movement of the pedestrian\n",
        "\n",
        "`Cause_of_accident`: Cause of the accident\n",
        "\n",
        "`Accident_severity`: Severity of the accident\n"
      ],
      "metadata": {
        "id": "4TflBwn4kNdJ"
      }
    },
    {
      "cell_type": "markdown",
      "source": [
        "# Tasks"
      ],
      "metadata": {
        "id": "WBNuyQVhlpj5"
      }
    },
    {
      "cell_type": "markdown",
      "source": [
        "##1. Data Cleaning"
      ],
      "metadata": {
        "id": "dasaHMt9lvdZ"
      }
    },
    {
      "cell_type": "markdown",
      "source": [
        "### Read the dataset"
      ],
      "metadata": {
        "id": "RNId1lMc3iUT"
      }
    },
    {
      "cell_type": "code",
      "source": [
        "\n",
        "import seaborn as sns\n",
        "import pandas as pd\n",
        "import numpy as np\n",
        "import matplotlib.pyplot as plt\n",
        "#from google.colab import drive\n",
        "#drive.mount('/content Dataset.csv')\n",
        "\n",
        "\n",
        "df = pd.read_csv('/content/Task (1) Dataset.csv')\n",
        "df.info()"
      ],
      "metadata": {
        "id": "KoTLFh533l5X",
        "colab": {
          "base_uri": "https://localhost:8080/"
        },
        "collapsed": true,
        "outputId": "8b4d0850-dac6-4398-bda1-59d097664761"
      },
      "execution_count": 68,
      "outputs": [
        {
          "output_type": "stream",
          "name": "stdout",
          "text": [
            "<class 'pandas.core.frame.DataFrame'>\n",
            "RangeIndex: 12316 entries, 0 to 12315\n",
            "Data columns (total 32 columns):\n",
            " #   Column                       Non-Null Count  Dtype \n",
            "---  ------                       --------------  ----- \n",
            " 0   Time                         12316 non-null  object\n",
            " 1   Day_of_week                  12316 non-null  object\n",
            " 2   Age_band_of_driver           12316 non-null  object\n",
            " 3   Sex_of_driver                12316 non-null  object\n",
            " 4   Educational_level            11575 non-null  object\n",
            " 5   Vehicle_driver_relation      11737 non-null  object\n",
            " 6   Driving_experience           11487 non-null  object\n",
            " 7   Type_of_vehicle              11366 non-null  object\n",
            " 8   Owner_of_vehicle             11834 non-null  object\n",
            " 9   Service_year_of_vehicle      8388 non-null   object\n",
            " 10  Defect_of_vehicle            7889 non-null   object\n",
            " 11  Area_accident_occured        12077 non-null  object\n",
            " 12  Lanes_or_Medians             11931 non-null  object\n",
            " 13  Road_allignment              12174 non-null  object\n",
            " 14  Types_of_Junction            11429 non-null  object\n",
            " 15  Road_surface_type            12144 non-null  object\n",
            " 16  Road_surface_conditions      12316 non-null  object\n",
            " 17  Light_conditions             12316 non-null  object\n",
            " 18  Weather_conditions           12316 non-null  object\n",
            " 19  Type_of_collision            12161 non-null  object\n",
            " 20  Number_of_vehicles_involved  12316 non-null  int64 \n",
            " 21  Number_of_casualties         12316 non-null  int64 \n",
            " 22  Vehicle_movement             12008 non-null  object\n",
            " 23  Casualty_class               12316 non-null  object\n",
            " 24  Sex_of_casualty              12316 non-null  object\n",
            " 25  Age_band_of_casualty         12316 non-null  object\n",
            " 26  Casualty_severity            12316 non-null  object\n",
            " 27  Work_of_casuality            9118 non-null   object\n",
            " 28  Fitness_of_casuality         9681 non-null   object\n",
            " 29  Pedestrian_movement          12316 non-null  object\n",
            " 30  Cause_of_accident            12316 non-null  object\n",
            " 31  Accident_severity            12316 non-null  object\n",
            "dtypes: int64(2), object(30)\n",
            "memory usage: 3.0+ MB\n"
          ]
        }
      ]
    },
    {
      "cell_type": "markdown",
      "source": [
        "### Handle Missing Values"
      ],
      "metadata": {
        "id": "WiipgZA4l1Wt"
      }
    },
    {
      "cell_type": "code",
      "source": [
        "\n",
        "df.isnull().sum()"
      ],
      "metadata": {
        "id": "jGQsNlCWpHzw",
        "colab": {
          "base_uri": "https://localhost:8080/"
        },
        "collapsed": true,
        "outputId": "74069633-4476-4e4b-e73a-d2a3896c9fc0"
      },
      "execution_count": 69,
      "outputs": [
        {
          "output_type": "execute_result",
          "data": {
            "text/plain": [
              "Time                              0\n",
              "Day_of_week                       0\n",
              "Age_band_of_driver                0\n",
              "Sex_of_driver                     0\n",
              "Educational_level               741\n",
              "Vehicle_driver_relation         579\n",
              "Driving_experience              829\n",
              "Type_of_vehicle                 950\n",
              "Owner_of_vehicle                482\n",
              "Service_year_of_vehicle        3928\n",
              "Defect_of_vehicle              4427\n",
              "Area_accident_occured           239\n",
              "Lanes_or_Medians                385\n",
              "Road_allignment                 142\n",
              "Types_of_Junction               887\n",
              "Road_surface_type               172\n",
              "Road_surface_conditions           0\n",
              "Light_conditions                  0\n",
              "Weather_conditions                0\n",
              "Type_of_collision               155\n",
              "Number_of_vehicles_involved       0\n",
              "Number_of_casualties              0\n",
              "Vehicle_movement                308\n",
              "Casualty_class                    0\n",
              "Sex_of_casualty                   0\n",
              "Age_band_of_casualty              0\n",
              "Casualty_severity                 0\n",
              "Work_of_casuality              3198\n",
              "Fitness_of_casuality           2635\n",
              "Pedestrian_movement               0\n",
              "Cause_of_accident                 0\n",
              "Accident_severity                 0\n",
              "dtype: int64"
            ]
          },
          "metadata": {},
          "execution_count": 69
        }
      ]
    },
    {
      "cell_type": "markdown",
      "source": [
        "### Correct any inconsistent data entries."
      ],
      "metadata": {
        "id": "RR8q7NzAmXvi"
      }
    },
    {
      "cell_type": "code",
      "source": [
        "df.head(2)"
      ],
      "metadata": {
        "colab": {
          "base_uri": "https://localhost:8080/",
          "height": 178
        },
        "id": "rMKkuARlcU8W",
        "outputId": "b6fe2d8f-3024-4d06-a645-fa0b812bfee0"
      },
      "execution_count": 70,
      "outputs": [
        {
          "output_type": "execute_result",
          "data": {
            "text/plain": [
              "       Time Day_of_week Age_band_of_driver Sex_of_driver   Educational_level  \\\n",
              "0  17:02:00      Monday              18-30          Male   Above high school   \n",
              "1  17:02:00      Monday              31-50          Male  Junior high school   \n",
              "\n",
              "  Vehicle_driver_relation Driving_experience      Type_of_vehicle  \\\n",
              "0                Employee              1-2yr           Automobile   \n",
              "1                Employee         Above 10yr  Public (> 45 seats)   \n",
              "\n",
              "  Owner_of_vehicle Service_year_of_vehicle  ... Vehicle_movement  \\\n",
              "0            Owner              Above 10yr  ...   Going straight   \n",
              "1            Owner                 5-10yrs  ...   Going straight   \n",
              "\n",
              "  Casualty_class Sex_of_casualty Age_band_of_casualty Casualty_severity  \\\n",
              "0             na              na                   na                na   \n",
              "1             na              na                   na                na   \n",
              "\n",
              "  Work_of_casuality Fitness_of_casuality Pedestrian_movement  \\\n",
              "0               NaN                  NaN    Not a Pedestrian   \n",
              "1               NaN                  NaN    Not a Pedestrian   \n",
              "\n",
              "  Cause_of_accident Accident_severity  \n",
              "0   Moving Backward     Slight Injury  \n",
              "1        Overtaking     Slight Injury  \n",
              "\n",
              "[2 rows x 32 columns]"
            ],
            "text/html": [
              "\n",
              "  <div id=\"df-50c98e54-b15b-4838-a0e2-d68c45c19d50\" class=\"colab-df-container\">\n",
              "    <div>\n",
              "<style scoped>\n",
              "    .dataframe tbody tr th:only-of-type {\n",
              "        vertical-align: middle;\n",
              "    }\n",
              "\n",
              "    .dataframe tbody tr th {\n",
              "        vertical-align: top;\n",
              "    }\n",
              "\n",
              "    .dataframe thead th {\n",
              "        text-align: right;\n",
              "    }\n",
              "</style>\n",
              "<table border=\"1\" class=\"dataframe\">\n",
              "  <thead>\n",
              "    <tr style=\"text-align: right;\">\n",
              "      <th></th>\n",
              "      <th>Time</th>\n",
              "      <th>Day_of_week</th>\n",
              "      <th>Age_band_of_driver</th>\n",
              "      <th>Sex_of_driver</th>\n",
              "      <th>Educational_level</th>\n",
              "      <th>Vehicle_driver_relation</th>\n",
              "      <th>Driving_experience</th>\n",
              "      <th>Type_of_vehicle</th>\n",
              "      <th>Owner_of_vehicle</th>\n",
              "      <th>Service_year_of_vehicle</th>\n",
              "      <th>...</th>\n",
              "      <th>Vehicle_movement</th>\n",
              "      <th>Casualty_class</th>\n",
              "      <th>Sex_of_casualty</th>\n",
              "      <th>Age_band_of_casualty</th>\n",
              "      <th>Casualty_severity</th>\n",
              "      <th>Work_of_casuality</th>\n",
              "      <th>Fitness_of_casuality</th>\n",
              "      <th>Pedestrian_movement</th>\n",
              "      <th>Cause_of_accident</th>\n",
              "      <th>Accident_severity</th>\n",
              "    </tr>\n",
              "  </thead>\n",
              "  <tbody>\n",
              "    <tr>\n",
              "      <th>0</th>\n",
              "      <td>17:02:00</td>\n",
              "      <td>Monday</td>\n",
              "      <td>18-30</td>\n",
              "      <td>Male</td>\n",
              "      <td>Above high school</td>\n",
              "      <td>Employee</td>\n",
              "      <td>1-2yr</td>\n",
              "      <td>Automobile</td>\n",
              "      <td>Owner</td>\n",
              "      <td>Above 10yr</td>\n",
              "      <td>...</td>\n",
              "      <td>Going straight</td>\n",
              "      <td>na</td>\n",
              "      <td>na</td>\n",
              "      <td>na</td>\n",
              "      <td>na</td>\n",
              "      <td>NaN</td>\n",
              "      <td>NaN</td>\n",
              "      <td>Not a Pedestrian</td>\n",
              "      <td>Moving Backward</td>\n",
              "      <td>Slight Injury</td>\n",
              "    </tr>\n",
              "    <tr>\n",
              "      <th>1</th>\n",
              "      <td>17:02:00</td>\n",
              "      <td>Monday</td>\n",
              "      <td>31-50</td>\n",
              "      <td>Male</td>\n",
              "      <td>Junior high school</td>\n",
              "      <td>Employee</td>\n",
              "      <td>Above 10yr</td>\n",
              "      <td>Public (&gt; 45 seats)</td>\n",
              "      <td>Owner</td>\n",
              "      <td>5-10yrs</td>\n",
              "      <td>...</td>\n",
              "      <td>Going straight</td>\n",
              "      <td>na</td>\n",
              "      <td>na</td>\n",
              "      <td>na</td>\n",
              "      <td>na</td>\n",
              "      <td>NaN</td>\n",
              "      <td>NaN</td>\n",
              "      <td>Not a Pedestrian</td>\n",
              "      <td>Overtaking</td>\n",
              "      <td>Slight Injury</td>\n",
              "    </tr>\n",
              "  </tbody>\n",
              "</table>\n",
              "<p>2 rows × 32 columns</p>\n",
              "</div>\n",
              "    <div class=\"colab-df-buttons\">\n",
              "\n",
              "  <div class=\"colab-df-container\">\n",
              "    <button class=\"colab-df-convert\" onclick=\"convertToInteractive('df-50c98e54-b15b-4838-a0e2-d68c45c19d50')\"\n",
              "            title=\"Convert this dataframe to an interactive table.\"\n",
              "            style=\"display:none;\">\n",
              "\n",
              "  <svg xmlns=\"http://www.w3.org/2000/svg\" height=\"24px\" viewBox=\"0 -960 960 960\">\n",
              "    <path d=\"M120-120v-720h720v720H120Zm60-500h600v-160H180v160Zm220 220h160v-160H400v160Zm0 220h160v-160H400v160ZM180-400h160v-160H180v160Zm440 0h160v-160H620v160ZM180-180h160v-160H180v160Zm440 0h160v-160H620v160Z\"/>\n",
              "  </svg>\n",
              "    </button>\n",
              "\n",
              "  <style>\n",
              "    .colab-df-container {\n",
              "      display:flex;\n",
              "      gap: 12px;\n",
              "    }\n",
              "\n",
              "    .colab-df-convert {\n",
              "      background-color: #E8F0FE;\n",
              "      border: none;\n",
              "      border-radius: 50%;\n",
              "      cursor: pointer;\n",
              "      display: none;\n",
              "      fill: #1967D2;\n",
              "      height: 32px;\n",
              "      padding: 0 0 0 0;\n",
              "      width: 32px;\n",
              "    }\n",
              "\n",
              "    .colab-df-convert:hover {\n",
              "      background-color: #E2EBFA;\n",
              "      box-shadow: 0px 1px 2px rgba(60, 64, 67, 0.3), 0px 1px 3px 1px rgba(60, 64, 67, 0.15);\n",
              "      fill: #174EA6;\n",
              "    }\n",
              "\n",
              "    .colab-df-buttons div {\n",
              "      margin-bottom: 4px;\n",
              "    }\n",
              "\n",
              "    [theme=dark] .colab-df-convert {\n",
              "      background-color: #3B4455;\n",
              "      fill: #D2E3FC;\n",
              "    }\n",
              "\n",
              "    [theme=dark] .colab-df-convert:hover {\n",
              "      background-color: #434B5C;\n",
              "      box-shadow: 0px 1px 3px 1px rgba(0, 0, 0, 0.15);\n",
              "      filter: drop-shadow(0px 1px 2px rgba(0, 0, 0, 0.3));\n",
              "      fill: #FFFFFF;\n",
              "    }\n",
              "  </style>\n",
              "\n",
              "    <script>\n",
              "      const buttonEl =\n",
              "        document.querySelector('#df-50c98e54-b15b-4838-a0e2-d68c45c19d50 button.colab-df-convert');\n",
              "      buttonEl.style.display =\n",
              "        google.colab.kernel.accessAllowed ? 'block' : 'none';\n",
              "\n",
              "      async function convertToInteractive(key) {\n",
              "        const element = document.querySelector('#df-50c98e54-b15b-4838-a0e2-d68c45c19d50');\n",
              "        const dataTable =\n",
              "          await google.colab.kernel.invokeFunction('convertToInteractive',\n",
              "                                                    [key], {});\n",
              "        if (!dataTable) return;\n",
              "\n",
              "        const docLinkHtml = 'Like what you see? Visit the ' +\n",
              "          '<a target=\"_blank\" href=https://colab.research.google.com/notebooks/data_table.ipynb>data table notebook</a>'\n",
              "          + ' to learn more about interactive tables.';\n",
              "        element.innerHTML = '';\n",
              "        dataTable['output_type'] = 'display_data';\n",
              "        await google.colab.output.renderOutput(dataTable, element);\n",
              "        const docLink = document.createElement('div');\n",
              "        docLink.innerHTML = docLinkHtml;\n",
              "        element.appendChild(docLink);\n",
              "      }\n",
              "    </script>\n",
              "  </div>\n",
              "\n",
              "\n",
              "<div id=\"df-f0308574-3c40-49f0-b83f-a7d43951e827\">\n",
              "  <button class=\"colab-df-quickchart\" onclick=\"quickchart('df-f0308574-3c40-49f0-b83f-a7d43951e827')\"\n",
              "            title=\"Suggest charts\"\n",
              "            style=\"display:none;\">\n",
              "\n",
              "<svg xmlns=\"http://www.w3.org/2000/svg\" height=\"24px\"viewBox=\"0 0 24 24\"\n",
              "     width=\"24px\">\n",
              "    <g>\n",
              "        <path d=\"M19 3H5c-1.1 0-2 .9-2 2v14c0 1.1.9 2 2 2h14c1.1 0 2-.9 2-2V5c0-1.1-.9-2-2-2zM9 17H7v-7h2v7zm4 0h-2V7h2v10zm4 0h-2v-4h2v4z\"/>\n",
              "    </g>\n",
              "</svg>\n",
              "  </button>\n",
              "\n",
              "<style>\n",
              "  .colab-df-quickchart {\n",
              "      --bg-color: #E8F0FE;\n",
              "      --fill-color: #1967D2;\n",
              "      --hover-bg-color: #E2EBFA;\n",
              "      --hover-fill-color: #174EA6;\n",
              "      --disabled-fill-color: #AAA;\n",
              "      --disabled-bg-color: #DDD;\n",
              "  }\n",
              "\n",
              "  [theme=dark] .colab-df-quickchart {\n",
              "      --bg-color: #3B4455;\n",
              "      --fill-color: #D2E3FC;\n",
              "      --hover-bg-color: #434B5C;\n",
              "      --hover-fill-color: #FFFFFF;\n",
              "      --disabled-bg-color: #3B4455;\n",
              "      --disabled-fill-color: #666;\n",
              "  }\n",
              "\n",
              "  .colab-df-quickchart {\n",
              "    background-color: var(--bg-color);\n",
              "    border: none;\n",
              "    border-radius: 50%;\n",
              "    cursor: pointer;\n",
              "    display: none;\n",
              "    fill: var(--fill-color);\n",
              "    height: 32px;\n",
              "    padding: 0;\n",
              "    width: 32px;\n",
              "  }\n",
              "\n",
              "  .colab-df-quickchart:hover {\n",
              "    background-color: var(--hover-bg-color);\n",
              "    box-shadow: 0 1px 2px rgba(60, 64, 67, 0.3), 0 1px 3px 1px rgba(60, 64, 67, 0.15);\n",
              "    fill: var(--button-hover-fill-color);\n",
              "  }\n",
              "\n",
              "  .colab-df-quickchart-complete:disabled,\n",
              "  .colab-df-quickchart-complete:disabled:hover {\n",
              "    background-color: var(--disabled-bg-color);\n",
              "    fill: var(--disabled-fill-color);\n",
              "    box-shadow: none;\n",
              "  }\n",
              "\n",
              "  .colab-df-spinner {\n",
              "    border: 2px solid var(--fill-color);\n",
              "    border-color: transparent;\n",
              "    border-bottom-color: var(--fill-color);\n",
              "    animation:\n",
              "      spin 1s steps(1) infinite;\n",
              "  }\n",
              "\n",
              "  @keyframes spin {\n",
              "    0% {\n",
              "      border-color: transparent;\n",
              "      border-bottom-color: var(--fill-color);\n",
              "      border-left-color: var(--fill-color);\n",
              "    }\n",
              "    20% {\n",
              "      border-color: transparent;\n",
              "      border-left-color: var(--fill-color);\n",
              "      border-top-color: var(--fill-color);\n",
              "    }\n",
              "    30% {\n",
              "      border-color: transparent;\n",
              "      border-left-color: var(--fill-color);\n",
              "      border-top-color: var(--fill-color);\n",
              "      border-right-color: var(--fill-color);\n",
              "    }\n",
              "    40% {\n",
              "      border-color: transparent;\n",
              "      border-right-color: var(--fill-color);\n",
              "      border-top-color: var(--fill-color);\n",
              "    }\n",
              "    60% {\n",
              "      border-color: transparent;\n",
              "      border-right-color: var(--fill-color);\n",
              "    }\n",
              "    80% {\n",
              "      border-color: transparent;\n",
              "      border-right-color: var(--fill-color);\n",
              "      border-bottom-color: var(--fill-color);\n",
              "    }\n",
              "    90% {\n",
              "      border-color: transparent;\n",
              "      border-bottom-color: var(--fill-color);\n",
              "    }\n",
              "  }\n",
              "</style>\n",
              "\n",
              "  <script>\n",
              "    async function quickchart(key) {\n",
              "      const quickchartButtonEl =\n",
              "        document.querySelector('#' + key + ' button');\n",
              "      quickchartButtonEl.disabled = true;  // To prevent multiple clicks.\n",
              "      quickchartButtonEl.classList.add('colab-df-spinner');\n",
              "      try {\n",
              "        const charts = await google.colab.kernel.invokeFunction(\n",
              "            'suggestCharts', [key], {});\n",
              "      } catch (error) {\n",
              "        console.error('Error during call to suggestCharts:', error);\n",
              "      }\n",
              "      quickchartButtonEl.classList.remove('colab-df-spinner');\n",
              "      quickchartButtonEl.classList.add('colab-df-quickchart-complete');\n",
              "    }\n",
              "    (() => {\n",
              "      let quickchartButtonEl =\n",
              "        document.querySelector('#df-f0308574-3c40-49f0-b83f-a7d43951e827 button');\n",
              "      quickchartButtonEl.style.display =\n",
              "        google.colab.kernel.accessAllowed ? 'block' : 'none';\n",
              "    })();\n",
              "  </script>\n",
              "</div>\n",
              "\n",
              "    </div>\n",
              "  </div>\n"
            ],
            "application/vnd.google.colaboratory.intrinsic+json": {
              "type": "dataframe",
              "variable_name": "df"
            }
          },
          "metadata": {},
          "execution_count": 70
        }
      ]
    },
    {
      "cell_type": "code",
      "source": [
        "mode = df.mode().iloc[0]\n",
        "df.fillna(mode ,inplace=True)\n",
        "df.isnull().sum()"
      ],
      "metadata": {
        "id": "MmuQ8Bw2pIVz",
        "colab": {
          "base_uri": "https://localhost:8080/"
        },
        "collapsed": true,
        "outputId": "5a2fd6a8-773f-4c7f-9eec-b1f706c71255"
      },
      "execution_count": 71,
      "outputs": [
        {
          "output_type": "execute_result",
          "data": {
            "text/plain": [
              "Time                           0\n",
              "Day_of_week                    0\n",
              "Age_band_of_driver             0\n",
              "Sex_of_driver                  0\n",
              "Educational_level              0\n",
              "Vehicle_driver_relation        0\n",
              "Driving_experience             0\n",
              "Type_of_vehicle                0\n",
              "Owner_of_vehicle               0\n",
              "Service_year_of_vehicle        0\n",
              "Defect_of_vehicle              0\n",
              "Area_accident_occured          0\n",
              "Lanes_or_Medians               0\n",
              "Road_allignment                0\n",
              "Types_of_Junction              0\n",
              "Road_surface_type              0\n",
              "Road_surface_conditions        0\n",
              "Light_conditions               0\n",
              "Weather_conditions             0\n",
              "Type_of_collision              0\n",
              "Number_of_vehicles_involved    0\n",
              "Number_of_casualties           0\n",
              "Vehicle_movement               0\n",
              "Casualty_class                 0\n",
              "Sex_of_casualty                0\n",
              "Age_band_of_casualty           0\n",
              "Casualty_severity              0\n",
              "Work_of_casuality              0\n",
              "Fitness_of_casuality           0\n",
              "Pedestrian_movement            0\n",
              "Cause_of_accident              0\n",
              "Accident_severity              0\n",
              "dtype: int64"
            ]
          },
          "metadata": {},
          "execution_count": 71
        }
      ]
    },
    {
      "cell_type": "markdown",
      "source": [
        "### Ensure data types are appropriate for each column.\n",
        "\n",
        "---\n",
        "\n"
      ],
      "metadata": {
        "id": "ANF5wAzWmYyc"
      }
    },
    {
      "cell_type": "code",
      "source": [
        "print(df.dtypes)"
      ],
      "metadata": {
        "id": "VdN2RV_OpJBV",
        "colab": {
          "base_uri": "https://localhost:8080/"
        },
        "collapsed": true,
        "outputId": "b0b8a33b-ef1d-45f6-a9e0-3581022d15d6"
      },
      "execution_count": 72,
      "outputs": [
        {
          "output_type": "stream",
          "name": "stdout",
          "text": [
            "Time                           object\n",
            "Day_of_week                    object\n",
            "Age_band_of_driver             object\n",
            "Sex_of_driver                  object\n",
            "Educational_level              object\n",
            "Vehicle_driver_relation        object\n",
            "Driving_experience             object\n",
            "Type_of_vehicle                object\n",
            "Owner_of_vehicle               object\n",
            "Service_year_of_vehicle        object\n",
            "Defect_of_vehicle              object\n",
            "Area_accident_occured          object\n",
            "Lanes_or_Medians               object\n",
            "Road_allignment                object\n",
            "Types_of_Junction              object\n",
            "Road_surface_type              object\n",
            "Road_surface_conditions        object\n",
            "Light_conditions               object\n",
            "Weather_conditions             object\n",
            "Type_of_collision              object\n",
            "Number_of_vehicles_involved     int64\n",
            "Number_of_casualties            int64\n",
            "Vehicle_movement               object\n",
            "Casualty_class                 object\n",
            "Sex_of_casualty                object\n",
            "Age_band_of_casualty           object\n",
            "Casualty_severity              object\n",
            "Work_of_casuality              object\n",
            "Fitness_of_casuality           object\n",
            "Pedestrian_movement            object\n",
            "Cause_of_accident              object\n",
            "Accident_severity              object\n",
            "dtype: object\n"
          ]
        }
      ]
    },
    {
      "cell_type": "markdown",
      "source": [
        "## 2. Exploratory Data Analysis (EDA)"
      ],
      "metadata": {
        "id": "hkp41fRQoUSj"
      }
    },
    {
      "cell_type": "markdown",
      "source": [
        "### Perform summary statistics on the dataset."
      ],
      "metadata": {
        "id": "RQpjcBLfoZgr"
      }
    },
    {
      "cell_type": "code",
      "source": [
        "df.describe()"
      ],
      "metadata": {
        "id": "9CIk-QkApKLp",
        "colab": {
          "base_uri": "https://localhost:8080/",
          "height": 300
        },
        "collapsed": true,
        "outputId": "65b181bd-cc2c-4e1d-d005-d92188ecdd96"
      },
      "execution_count": 73,
      "outputs": [
        {
          "output_type": "execute_result",
          "data": {
            "text/plain": [
              "       Number_of_vehicles_involved  Number_of_casualties\n",
              "count                 12316.000000          12316.000000\n",
              "mean                      2.040679              1.548149\n",
              "std                       0.688790              1.007179\n",
              "min                       1.000000              1.000000\n",
              "25%                       2.000000              1.000000\n",
              "50%                       2.000000              1.000000\n",
              "75%                       2.000000              2.000000\n",
              "max                       7.000000              8.000000"
            ],
            "text/html": [
              "\n",
              "  <div id=\"df-1ae60976-6226-4663-8aa7-d324fce9c426\" class=\"colab-df-container\">\n",
              "    <div>\n",
              "<style scoped>\n",
              "    .dataframe tbody tr th:only-of-type {\n",
              "        vertical-align: middle;\n",
              "    }\n",
              "\n",
              "    .dataframe tbody tr th {\n",
              "        vertical-align: top;\n",
              "    }\n",
              "\n",
              "    .dataframe thead th {\n",
              "        text-align: right;\n",
              "    }\n",
              "</style>\n",
              "<table border=\"1\" class=\"dataframe\">\n",
              "  <thead>\n",
              "    <tr style=\"text-align: right;\">\n",
              "      <th></th>\n",
              "      <th>Number_of_vehicles_involved</th>\n",
              "      <th>Number_of_casualties</th>\n",
              "    </tr>\n",
              "  </thead>\n",
              "  <tbody>\n",
              "    <tr>\n",
              "      <th>count</th>\n",
              "      <td>12316.000000</td>\n",
              "      <td>12316.000000</td>\n",
              "    </tr>\n",
              "    <tr>\n",
              "      <th>mean</th>\n",
              "      <td>2.040679</td>\n",
              "      <td>1.548149</td>\n",
              "    </tr>\n",
              "    <tr>\n",
              "      <th>std</th>\n",
              "      <td>0.688790</td>\n",
              "      <td>1.007179</td>\n",
              "    </tr>\n",
              "    <tr>\n",
              "      <th>min</th>\n",
              "      <td>1.000000</td>\n",
              "      <td>1.000000</td>\n",
              "    </tr>\n",
              "    <tr>\n",
              "      <th>25%</th>\n",
              "      <td>2.000000</td>\n",
              "      <td>1.000000</td>\n",
              "    </tr>\n",
              "    <tr>\n",
              "      <th>50%</th>\n",
              "      <td>2.000000</td>\n",
              "      <td>1.000000</td>\n",
              "    </tr>\n",
              "    <tr>\n",
              "      <th>75%</th>\n",
              "      <td>2.000000</td>\n",
              "      <td>2.000000</td>\n",
              "    </tr>\n",
              "    <tr>\n",
              "      <th>max</th>\n",
              "      <td>7.000000</td>\n",
              "      <td>8.000000</td>\n",
              "    </tr>\n",
              "  </tbody>\n",
              "</table>\n",
              "</div>\n",
              "    <div class=\"colab-df-buttons\">\n",
              "\n",
              "  <div class=\"colab-df-container\">\n",
              "    <button class=\"colab-df-convert\" onclick=\"convertToInteractive('df-1ae60976-6226-4663-8aa7-d324fce9c426')\"\n",
              "            title=\"Convert this dataframe to an interactive table.\"\n",
              "            style=\"display:none;\">\n",
              "\n",
              "  <svg xmlns=\"http://www.w3.org/2000/svg\" height=\"24px\" viewBox=\"0 -960 960 960\">\n",
              "    <path d=\"M120-120v-720h720v720H120Zm60-500h600v-160H180v160Zm220 220h160v-160H400v160Zm0 220h160v-160H400v160ZM180-400h160v-160H180v160Zm440 0h160v-160H620v160ZM180-180h160v-160H180v160Zm440 0h160v-160H620v160Z\"/>\n",
              "  </svg>\n",
              "    </button>\n",
              "\n",
              "  <style>\n",
              "    .colab-df-container {\n",
              "      display:flex;\n",
              "      gap: 12px;\n",
              "    }\n",
              "\n",
              "    .colab-df-convert {\n",
              "      background-color: #E8F0FE;\n",
              "      border: none;\n",
              "      border-radius: 50%;\n",
              "      cursor: pointer;\n",
              "      display: none;\n",
              "      fill: #1967D2;\n",
              "      height: 32px;\n",
              "      padding: 0 0 0 0;\n",
              "      width: 32px;\n",
              "    }\n",
              "\n",
              "    .colab-df-convert:hover {\n",
              "      background-color: #E2EBFA;\n",
              "      box-shadow: 0px 1px 2px rgba(60, 64, 67, 0.3), 0px 1px 3px 1px rgba(60, 64, 67, 0.15);\n",
              "      fill: #174EA6;\n",
              "    }\n",
              "\n",
              "    .colab-df-buttons div {\n",
              "      margin-bottom: 4px;\n",
              "    }\n",
              "\n",
              "    [theme=dark] .colab-df-convert {\n",
              "      background-color: #3B4455;\n",
              "      fill: #D2E3FC;\n",
              "    }\n",
              "\n",
              "    [theme=dark] .colab-df-convert:hover {\n",
              "      background-color: #434B5C;\n",
              "      box-shadow: 0px 1px 3px 1px rgba(0, 0, 0, 0.15);\n",
              "      filter: drop-shadow(0px 1px 2px rgba(0, 0, 0, 0.3));\n",
              "      fill: #FFFFFF;\n",
              "    }\n",
              "  </style>\n",
              "\n",
              "    <script>\n",
              "      const buttonEl =\n",
              "        document.querySelector('#df-1ae60976-6226-4663-8aa7-d324fce9c426 button.colab-df-convert');\n",
              "      buttonEl.style.display =\n",
              "        google.colab.kernel.accessAllowed ? 'block' : 'none';\n",
              "\n",
              "      async function convertToInteractive(key) {\n",
              "        const element = document.querySelector('#df-1ae60976-6226-4663-8aa7-d324fce9c426');\n",
              "        const dataTable =\n",
              "          await google.colab.kernel.invokeFunction('convertToInteractive',\n",
              "                                                    [key], {});\n",
              "        if (!dataTable) return;\n",
              "\n",
              "        const docLinkHtml = 'Like what you see? Visit the ' +\n",
              "          '<a target=\"_blank\" href=https://colab.research.google.com/notebooks/data_table.ipynb>data table notebook</a>'\n",
              "          + ' to learn more about interactive tables.';\n",
              "        element.innerHTML = '';\n",
              "        dataTable['output_type'] = 'display_data';\n",
              "        await google.colab.output.renderOutput(dataTable, element);\n",
              "        const docLink = document.createElement('div');\n",
              "        docLink.innerHTML = docLinkHtml;\n",
              "        element.appendChild(docLink);\n",
              "      }\n",
              "    </script>\n",
              "  </div>\n",
              "\n",
              "\n",
              "<div id=\"df-37856078-dfc2-46ca-9918-eb7368555d73\">\n",
              "  <button class=\"colab-df-quickchart\" onclick=\"quickchart('df-37856078-dfc2-46ca-9918-eb7368555d73')\"\n",
              "            title=\"Suggest charts\"\n",
              "            style=\"display:none;\">\n",
              "\n",
              "<svg xmlns=\"http://www.w3.org/2000/svg\" height=\"24px\"viewBox=\"0 0 24 24\"\n",
              "     width=\"24px\">\n",
              "    <g>\n",
              "        <path d=\"M19 3H5c-1.1 0-2 .9-2 2v14c0 1.1.9 2 2 2h14c1.1 0 2-.9 2-2V5c0-1.1-.9-2-2-2zM9 17H7v-7h2v7zm4 0h-2V7h2v10zm4 0h-2v-4h2v4z\"/>\n",
              "    </g>\n",
              "</svg>\n",
              "  </button>\n",
              "\n",
              "<style>\n",
              "  .colab-df-quickchart {\n",
              "      --bg-color: #E8F0FE;\n",
              "      --fill-color: #1967D2;\n",
              "      --hover-bg-color: #E2EBFA;\n",
              "      --hover-fill-color: #174EA6;\n",
              "      --disabled-fill-color: #AAA;\n",
              "      --disabled-bg-color: #DDD;\n",
              "  }\n",
              "\n",
              "  [theme=dark] .colab-df-quickchart {\n",
              "      --bg-color: #3B4455;\n",
              "      --fill-color: #D2E3FC;\n",
              "      --hover-bg-color: #434B5C;\n",
              "      --hover-fill-color: #FFFFFF;\n",
              "      --disabled-bg-color: #3B4455;\n",
              "      --disabled-fill-color: #666;\n",
              "  }\n",
              "\n",
              "  .colab-df-quickchart {\n",
              "    background-color: var(--bg-color);\n",
              "    border: none;\n",
              "    border-radius: 50%;\n",
              "    cursor: pointer;\n",
              "    display: none;\n",
              "    fill: var(--fill-color);\n",
              "    height: 32px;\n",
              "    padding: 0;\n",
              "    width: 32px;\n",
              "  }\n",
              "\n",
              "  .colab-df-quickchart:hover {\n",
              "    background-color: var(--hover-bg-color);\n",
              "    box-shadow: 0 1px 2px rgba(60, 64, 67, 0.3), 0 1px 3px 1px rgba(60, 64, 67, 0.15);\n",
              "    fill: var(--button-hover-fill-color);\n",
              "  }\n",
              "\n",
              "  .colab-df-quickchart-complete:disabled,\n",
              "  .colab-df-quickchart-complete:disabled:hover {\n",
              "    background-color: var(--disabled-bg-color);\n",
              "    fill: var(--disabled-fill-color);\n",
              "    box-shadow: none;\n",
              "  }\n",
              "\n",
              "  .colab-df-spinner {\n",
              "    border: 2px solid var(--fill-color);\n",
              "    border-color: transparent;\n",
              "    border-bottom-color: var(--fill-color);\n",
              "    animation:\n",
              "      spin 1s steps(1) infinite;\n",
              "  }\n",
              "\n",
              "  @keyframes spin {\n",
              "    0% {\n",
              "      border-color: transparent;\n",
              "      border-bottom-color: var(--fill-color);\n",
              "      border-left-color: var(--fill-color);\n",
              "    }\n",
              "    20% {\n",
              "      border-color: transparent;\n",
              "      border-left-color: var(--fill-color);\n",
              "      border-top-color: var(--fill-color);\n",
              "    }\n",
              "    30% {\n",
              "      border-color: transparent;\n",
              "      border-left-color: var(--fill-color);\n",
              "      border-top-color: var(--fill-color);\n",
              "      border-right-color: var(--fill-color);\n",
              "    }\n",
              "    40% {\n",
              "      border-color: transparent;\n",
              "      border-right-color: var(--fill-color);\n",
              "      border-top-color: var(--fill-color);\n",
              "    }\n",
              "    60% {\n",
              "      border-color: transparent;\n",
              "      border-right-color: var(--fill-color);\n",
              "    }\n",
              "    80% {\n",
              "      border-color: transparent;\n",
              "      border-right-color: var(--fill-color);\n",
              "      border-bottom-color: var(--fill-color);\n",
              "    }\n",
              "    90% {\n",
              "      border-color: transparent;\n",
              "      border-bottom-color: var(--fill-color);\n",
              "    }\n",
              "  }\n",
              "</style>\n",
              "\n",
              "  <script>\n",
              "    async function quickchart(key) {\n",
              "      const quickchartButtonEl =\n",
              "        document.querySelector('#' + key + ' button');\n",
              "      quickchartButtonEl.disabled = true;  // To prevent multiple clicks.\n",
              "      quickchartButtonEl.classList.add('colab-df-spinner');\n",
              "      try {\n",
              "        const charts = await google.colab.kernel.invokeFunction(\n",
              "            'suggestCharts', [key], {});\n",
              "      } catch (error) {\n",
              "        console.error('Error during call to suggestCharts:', error);\n",
              "      }\n",
              "      quickchartButtonEl.classList.remove('colab-df-spinner');\n",
              "      quickchartButtonEl.classList.add('colab-df-quickchart-complete');\n",
              "    }\n",
              "    (() => {\n",
              "      let quickchartButtonEl =\n",
              "        document.querySelector('#df-37856078-dfc2-46ca-9918-eb7368555d73 button');\n",
              "      quickchartButtonEl.style.display =\n",
              "        google.colab.kernel.accessAllowed ? 'block' : 'none';\n",
              "    })();\n",
              "  </script>\n",
              "</div>\n",
              "\n",
              "    </div>\n",
              "  </div>\n"
            ],
            "application/vnd.google.colaboratory.intrinsic+json": {
              "type": "dataframe",
              "summary": "{\n  \"name\": \"df\",\n  \"rows\": 8,\n  \"fields\": [\n    {\n      \"column\": \"Number_of_vehicles_involved\",\n      \"properties\": {\n        \"dtype\": \"number\",\n        \"std\": 4353.519030149126,\n        \"min\": 0.6887896452620738,\n        \"max\": 12316.0,\n        \"num_unique_values\": 6,\n        \"samples\": [\n          12316.0,\n          2.0406787918155245,\n          7.0\n        ],\n        \"semantic_type\": \"\",\n        \"description\": \"\"\n      }\n    },\n    {\n      \"column\": \"Number_of_casualties\",\n      \"properties\": {\n        \"dtype\": \"number\",\n        \"std\": 4353.578549582754,\n        \"min\": 1.0,\n        \"max\": 12316.0,\n        \"num_unique_values\": 6,\n        \"samples\": [\n          12316.0,\n          1.548148749594024,\n          8.0\n        ],\n        \"semantic_type\": \"\",\n        \"description\": \"\"\n      }\n    }\n  ]\n}"
            }
          },
          "metadata": {},
          "execution_count": 73
        }
      ]
    },
    {
      "cell_type": "markdown",
      "source": [
        "### Identify and analyze patterns in the data."
      ],
      "metadata": {
        "id": "OjwISK8nocUT"
      }
    },
    {
      "cell_type": "code",
      "source": [
        "df = df.drop_duplicates()\n"
      ],
      "metadata": {
        "id": "gw8jkuYIpKeH",
        "collapsed": true
      },
      "execution_count": 75,
      "outputs": []
    },
    {
      "cell_type": "markdown",
      "source": [
        "### Visualize the distribution of key variables (e.g., Age_band_of_driver, Type_of_vehicle)."
      ],
      "metadata": {
        "id": "4k-cDvL8oflR"
      }
    },
    {
      "cell_type": "code",
      "source": [
        "sns.pairplot(df)\n",
        "plt.show()\n",
        "#sns.pairplot(df['Age_band_of_driver'],['Type_of_vehicle'])\n",
        "#plt.show()\n",
        "\n"
      ],
      "metadata": {
        "id": "V7I156lepKv1",
        "colab": {
          "base_uri": "https://localhost:8080/",
          "height": 513
        },
        "collapsed": true,
        "outputId": "23e75197-5b72-40b7-dc61-e9aaf3b59e39"
      },
      "execution_count": 89,
      "outputs": [
        {
          "output_type": "display_data",
          "data": {
            "text/plain": [
              "<Figure size 500x500 with 6 Axes>"
            ],
            "image/png": "[encoded data removed]"
          },
          "metadata": {}
        }
      ]
    },
    {
      "cell_type": "markdown",
      "source": [
        "### Explore relationships between variables (e.g., Age_band_of_driver vs. Accident_severity).\n"
      ],
      "metadata": {
        "id": "Lz4jQtNBoih-"
      }
    },
    {
      "cell_type": "code",
      "source": [
        "\n",
        "#columns_names = df['Age_band_of_driver' , 'Accident_severity']\n",
        "sns.pairplot(df[column_names])\n",
        "plt.show()"
      ],
      "metadata": {
        "id": "2Txh8eI1pLJQ",
        "colab": {
          "base_uri": "https://localhost:8080/",
          "height": 513
        },
        "collapsed": true,
        "outputId": "596141c9-040c-44fb-d946-6aaaa431b0c8"
      },
      "execution_count": 95,
      "outputs": [
        {
          "output_type": "display_data",
          "data": {
            "text/plain": [
              "<Figure size 500x500 with 6 Axes>"
            ],
            "image/png": "[encoded data removed]"
          },
          "metadata": {}
        }
      ]
    },
    {
      "cell_type": "markdown",
      "source": [
        "## 3. Data Visualization"
      ],
      "metadata": {
        "id": "mZiDh1gronRD"
      }
    },
    {
      "cell_type": "markdown",
      "source": [
        "* Ensure the visualizations are clear and informative."
      ],
      "metadata": {
        "id": "WL4wC3iSqWuO"
      }
    },
    {
      "cell_type": "markdown",
      "source": [
        "### Create visualizations to illustrate the findings from the EDA.\n"
      ],
      "metadata": {
        "id": "VfUFvWxUopoh"
      }
    },
    {
      "cell_type": "code",
      "source": [
        "sns.pieplot(df)\n",
        "plt.show()"
      ],
      "metadata": {
        "id": "KAlacPHypMVh",
        "collapsed": true
      },
      "execution_count": null,
      "outputs": []
    },
    {
      "cell_type": "markdown",
      "source": [
        "### Use appropriate plots such as histograms, bar charts, pie charts, scatter plots, and heatmaps."
      ],
      "metadata": {
        "id": "G4KCbzg4osSW"
      }
    },
    {
      "cell_type": "code",
      "source": [
        "\n",
        "\n",
        "sns.barplot(df)\n",
        "plt.show()"
      ],
      "metadata": {
        "id": "IKyAKt5apMp4",
        "colab": {
          "base_uri": "https://localhost:8080/",
          "height": 430
        },
        "outputId": "687f8a5a-0358-44c5-c1f4-0dd706b2afbb"
      },
      "execution_count": 98,
      "outputs": [
        {
          "output_type": "display_data",
          "data": {
            "text/plain": [
              "<Figure size 640x480 with 1 Axes>"
            ],
            "image/png": "[encoded data removed]"
          },
          "metadata": {}
        }
      ]
    },
    {
      "cell_type": "markdown",
      "source": [
        "## 4. Insights and Conclusions"
      ],
      "metadata": {
        "id": "breh9YkZoxiT"
      }
    },
    {
      "cell_type": "markdown",
      "source": [
        "* <h3>Summarize the key insights gained from the data analysis.<h3/>\n",
        "* <h3>Draw conclusions based on the patterns observed in the data.<h3/>"
      ],
      "metadata": {
        "id": "a9akovSwo5l2"
      }
    },
    {
      "cell_type": "code",
      "source": [
        "Null values ​​have been dropped to clean up the data and replaced with meaningful\n",
        " values ​​which is perfectly fine.\n",
        "The consistency of values ​​and variables was ensured.\n",
        "Run summary statistics on the data set to see the changes that occur."
      ],
      "metadata": {
        "id": "2-U6-y6DLe_y"
      },
      "execution_count": null,
      "outputs": []
    }
  ]
}