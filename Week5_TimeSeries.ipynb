{
  "nbformat": 4,
  "nbformat_minor": 0,
  "metadata": {
    "colab": {
      "private_outputs": true,
      "provenance": [],
      "authorship_tag": "ABX9TyM8RXE7MYvVrGStTJ16wGJM",
      "include_colab_link": true
    },
    "kernelspec": {
      "name": "python3",
      "display_name": "Python 3"
    },
    "language_info": {
      "name": "python"
    }
  },
  "cells": [
    {
      "cell_type": "markdown",
      "metadata": {
        "id": "view-in-github",
        "colab_type": "text"
      },
      "source": [
        "<a href=\"https://colab.research.google.com/github/lamaT5/T5./blob/main/Week5_TimeSeries.ipynb\" target=\"_parent\"><img src=\"https://colab.research.google.com/assets/colab-badge.svg\" alt=\"Open In Colab\"/></a>"
      ]
    },
    {
      "cell_type": "code",
      "execution_count": null,
      "metadata": {
        "id": "-HAUo6NXmkRb"
      },
      "outputs": [],
      "source": [
        "import pandas as pd\n",
        "\n",
        "df=pd.read_csv('/content/Traffic Data.csv' , parse_dates=['date_time'] , index_col=['date_time'])\n",
        "\n",
        "df.sort_index(inplace=True)"
      ]
    },
    {
      "cell_type": "code",
      "source": [
        "df.info()"
      ],
      "metadata": {
        "id": "F8wS6TuBns5X"
      },
      "execution_count": null,
      "outputs": []
    },
    {
      "cell_type": "code",
      "source": [
        "df.head()"
      ],
      "metadata": {
        "id": "5XCCw-vso8xJ"
      },
      "execution_count": null,
      "outputs": []
    },
    {
      "cell_type": "markdown",
      "source": [
        "### **EDA**"
      ],
      "metadata": {
        "id": "5BFwx3MMpfnY"
      }
    },
    {
      "cell_type": "code",
      "source": [
        "df.plot()"
      ],
      "metadata": {
        "collapsed": true,
        "id": "SKVN0XykphfS"
      },
      "execution_count": null,
      "outputs": []
    },
    {
      "cell_type": "code",
      "source": [
        "#outlire (boxplot)\n",
        "\n",
        "import seaborn as sns\n",
        "sns.boxplot(df)"
      ],
      "metadata": {
        "id": "cbqDfWc-p2A6"
      },
      "execution_count": null,
      "outputs": []
    },
    {
      "cell_type": "code",
      "source": [
        "import matplotlib.pyplot as plt\n",
        "\n",
        "df['temp'].plot()\n",
        "plt.title('temperature Average')\n",
        "plt.xlabel('date time')\n",
        "plt.ylabel('num')"
      ],
      "metadata": {
        "id": "23TkBMmaqMAI"
      },
      "execution_count": null,
      "outputs": []
    },
    {
      "cell_type": "code",
      "source": [
        "import matplotlib.pyplot as plt\n",
        "\n",
        "df['rain_1h'].plot()"
      ],
      "metadata": {
        "id": "usGv31W-ruse"
      },
      "execution_count": null,
      "outputs": []
    },
    {
      "cell_type": "code",
      "source": [
        "sns.countplot(df , x = 'weather_main')"
      ],
      "metadata": {
        "id": "V9th18xusOmX"
      },
      "execution_count": null,
      "outputs": []
    },
    {
      "cell_type": "code",
      "source": [
        "df['traffic_volume'].plot()\n",
        "plt.title('Traffic_Volume')\n",
        "plt.xlabel('data time')"
      ],
      "metadata": {
        "id": "fzxh_svmsdjF"
      },
      "execution_count": null,
      "outputs": []
    },
    {
      "cell_type": "code",
      "source": [
        "df.isnull().sum()"
      ],
      "metadata": {
        "id": "Lo7C3jpLtNUe"
      },
      "execution_count": null,
      "outputs": []
    },
    {
      "cell_type": "markdown",
      "source": [
        "### **Data Preprocessing**"
      ],
      "metadata": {
        "id": "VKVF4_3stWPJ"
      }
    },
    {
      "cell_type": "code",
      "source": [
        "df.dropna(axis=0,inplace=True)"
      ],
      "metadata": {
        "id": "bOBvMxqBtAZl"
      },
      "execution_count": null,
      "outputs": []
    },
    {
      "cell_type": "code",
      "source": [
        "df.isnull().sum()"
      ],
      "metadata": {
        "id": "k0X6JE0qt3yJ"
      },
      "execution_count": null,
      "outputs": []
    },
    {
      "cell_type": "markdown",
      "source": [
        "# **Feature Engineering**"
      ],
      "metadata": {
        "id": "8eWJ2QHWuDSV"
      }
    },
    {
      "cell_type": "code",
      "source": [
        "#shift (traffic volume)\n",
        "df['prev_traffic_volume'] = df['traffic_volume'].shift(1)\n",
        "df[['traffic_volume' , 'prev_traffic_volume']]"
      ],
      "metadata": {
        "id": "BGv94fsJuHDG"
      },
      "execution_count": null,
      "outputs": []
    },
    {
      "cell_type": "code",
      "source": [
        "# diff\n",
        "df['diff_traffic_volume'] = df['traffic_volume'].diff()\n",
        "df[['traffic_volume' , 'diff_traffic_volume']]"
      ],
      "metadata": {
        "id": "nnWN-3JkvGlP"
      },
      "execution_count": null,
      "outputs": []
    },
    {
      "cell_type": "markdown",
      "source": [
        "**Date Features**: Extract meaningful time-based features from the date_time column to enhance the model's ability to detect temporal patterns. These features include:\n",
        "\n",
        "**Day of the week:** To capture weekly seasonality.\n",
        "**Month:** To capture monthly trends.\n",
        "**Day of the year**: Useful for modeling yearly seasonality"
      ],
      "metadata": {
        "id": "eMXb85NHyC2d"
      }
    },
    {
      "cell_type": "code",
      "source": [
        "df['Day_of_the_week'] = df.index.dayofweek"
      ],
      "metadata": {
        "id": "nznrGIKZyI19"
      },
      "execution_count": null,
      "outputs": []
    },
    {
      "cell_type": "code",
      "source": [
        "df['Month'] = df.index.month"
      ],
      "metadata": {
        "id": "wgVJZzLhyoja"
      },
      "execution_count": null,
      "outputs": []
    },
    {
      "cell_type": "code",
      "source": [
        "df['Day_of_the_year'] = df.index.dayofyear"
      ],
      "metadata": {
        "id": "uRIUfouKyxI4"
      },
      "execution_count": null,
      "outputs": []
    },
    {
      "cell_type": "code",
      "source": [
        "df[['Day_of_the_week' , 'Month' , 'Day_of_the_year']]"
      ],
      "metadata": {
        "id": "mYGdhZ4Jy9zR"
      },
      "execution_count": null,
      "outputs": []
    },
    {
      "cell_type": "markdown",
      "source": [
        "**Feature Scaling**\n",
        "Apply feature scaling to the data if needed\n",
        "\n",
        "**Instructions:**\n",
        "\n",
        "Use a scaling method such as MinMaxScaler or StandardScaler.\n",
        "Ensure scaling is applied correctly to both training and testing data"
      ],
      "metadata": {
        "id": "9mWSeMV67AXM"
      }
    },
    {
      "cell_type": "code",
      "source": [
        "target = df['traffic_volume'].values.reshape(-1,1)"
      ],
      "metadata": {
        "id": "jtDY80877GAx"
      },
      "execution_count": null,
      "outputs": []
    },
    {
      "cell_type": "code",
      "source": [
        "df['traffic_volume'].value_counts()"
      ],
      "metadata": {
        "id": "zK1gDKVUXFFC"
      },
      "execution_count": null,
      "outputs": []
    },
    {
      "cell_type": "code",
      "source": [
        "from sklearn.preprocessing import StandardScaler\n",
        "# calclates mean\n",
        "scaler = StandardScaler()\n",
        "target_pre = scaler.fit_transform(target)"
      ],
      "metadata": {
        "id": "fiE00ODB7sTW"
      },
      "execution_count": null,
      "outputs": []
    },
    {
      "cell_type": "markdown",
      "source": [
        "**Train-Test Split**"
      ],
      "metadata": {
        "id": "LthbLL_oSRt2"
      }
    },
    {
      "cell_type": "code",
      "source": [
        "train_size = int(len(target_pre)*0.8)\n",
        "train , test = target_pre[:train_size] , target_pre[train_size:]"
      ],
      "metadata": {
        "id": "b0_NI37JSVn2"
      },
      "execution_count": null,
      "outputs": []
    },
    {
      "cell_type": "code",
      "source": [
        "x_train , y_train = train[:-1] , train[1:]\n",
        "x_test , y_test = test[:-1] , test[1:]"
      ],
      "metadata": {
        "id": "UQirh32lUiPq"
      },
      "execution_count": null,
      "outputs": []
    },
    {
      "cell_type": "code",
      "source": [
        "x_train = x_train.reshape(-1,1,1)\n",
        "x_test = x_test.reshape(-1,1,1)"
      ],
      "metadata": {
        "id": "oTpOSftocQ6E"
      },
      "execution_count": null,
      "outputs": []
    },
    {
      "cell_type": "code",
      "source": [
        "x_train.shape , x_test.shape"
      ],
      "metadata": {
        "id": "N4Ct-8I2U4Y4"
      },
      "execution_count": null,
      "outputs": []
    },
    {
      "cell_type": "markdown",
      "source": [
        "## **Models Selection**"
      ],
      "metadata": {
        "id": "G1EJaESsVKGa"
      }
    },
    {
      "cell_type": "code",
      "source": [
        "import numpy as np\n",
        "import tensorflow as tf\n",
        "from keras.models import Sequential\n",
        "from keras.layers import Dense,LSTM,SimpleRNN,Dropout"
      ],
      "metadata": {
        "id": "_khzOXpaVQO-"
      },
      "execution_count": null,
      "outputs": []
    },
    {
      "cell_type": "code",
      "source": [
        "\n",
        "model = Sequential([\n",
        "\n",
        "    SimpleRNN(16 , activation='tanh' , return_sequences=True),\n",
        "    Dropout(0.2),\n",
        "\n",
        "    SimpleRNN(32 , activation='tanh' , return_sequences=True),\n",
        "    Dropout(0.2),\n",
        "\n",
        "    Dense(1)\n",
        "\n",
        "                    ])"
      ],
      "metadata": {
        "id": "FVwvsJIvWAJE"
      },
      "execution_count": null,
      "outputs": []
    },
    {
      "cell_type": "code",
      "source": [
        "model.compile(optimizer='adam', loss='mae', metrics=['mae'])\n"
      ],
      "metadata": {
        "id": "2zqy7DKraX2l"
      },
      "execution_count": null,
      "outputs": []
    },
    {
      "cell_type": "code",
      "source": [
        "history = model.fit(x_train, y_train, epochs=50, validation_split=0.2, batch_size=1024)\n"
      ],
      "metadata": {
        "id": "ZQgDnj9QXOiR"
      },
      "execution_count": null,
      "outputs": []
    },
    {
      "cell_type": "code",
      "source": [
        "y_pre = model.predict(x_test)\n",
        "\n",
        "y_pre = y_pre.reshape(y_pre.shape[0], -1)\n"
      ],
      "metadata": {
        "id": "mIiWMvzJeCkY"
      },
      "execution_count": null,
      "outputs": []
    },
    {
      "cell_type": "code",
      "source": [
        "y_test = scaler.inverse_transform(y_test)"
      ],
      "metadata": {
        "id": "FNM2aRschA8l"
      },
      "execution_count": null,
      "outputs": []
    },
    {
      "cell_type": "code",
      "source": [
        "from sklearn.metrics import mean_absolute_error, mean_squared_error, mean_absolute_percentage_error\n",
        "\n",
        "\n",
        "mae = mean_absolute_error(y_test, y_pre)\n",
        "mse = mean_squared_error(y_test, y_pre)\n",
        "rmse = np.sqrt(mse)\n",
        "mape = mean_absolute_percentage_error(y_test, y_pre)\n",
        "\n",
        "print('MAE:', mae)\n",
        "print('MSE:', mse)\n",
        "print('RMSE:', rmse)\n",
        "print('MAPE:', mape)\n",
        "\n"
      ],
      "metadata": {
        "id": "NKW8N4EsimiP"
      },
      "execution_count": null,
      "outputs": []
    },
    {
      "cell_type": "code",
      "source": [
        "plt.title('Actual vs predict')\n",
        "plt.plot(y_test)\n",
        "plt.plot(train_pred)\n",
        "plt.show()"
      ],
      "metadata": {
        "id": "ExY5HMRxlAIE"
      },
      "execution_count": null,
      "outputs": []
    }
  ]
}